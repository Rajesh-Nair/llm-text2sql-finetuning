{
 "cells": [
  {
   "cell_type": "code",
   "execution_count": 49,
   "metadata": {},
   "outputs": [],
   "source": [
    "# Setup the environment\n",
    "# Run setup.sh\n",
    "\n",
    "# Alternatively - run the following\n",
    "#!pip install -q accelerate transformers peft deepspeed bitsandbytes --no-build-isolation\n",
    "#!pip install trl==0.9.6\n",
    "#!pip install packaging ninja\n",
    "#!MAX_JOBS=16 pip install flash-attn==2.6.0.post1 --no-build-isolation\n"
   ]
  },
  {
   "cell_type": "code",
   "execution_count": 54,
   "metadata": {},
   "outputs": [],
   "source": [
    "#!python  train.py run_config.yaml"
   ]
  },
  {
   "cell_type": "code",
   "execution_count": 53,
   "metadata": {},
   "outputs": [
    {
     "name": "stdout",
     "output_type": "stream",
     "text": [
      "^C\n"
     ]
    },
    {
     "name": "stdout",
     "output_type": "stream",
     "text": [
      "[2025-02-24 19:01:28,384] [WARNING] [real_accelerator.py:181:get_accelerator] Setting accelerator to CPU. If you have GPU or other accelerator, we were unable to detect it.\n",
      "[2025-02-24 19:01:28,386] [INFO] [real_accelerator.py:222:get_accelerator] Setting ds_accelerator to cpu (auto detect)\n",
      "['train.py', 'run_config.yaml']\n",
      "['train.py', 'run_config.yaml']\n",
      "[2025-02-24 19:01:39,315] [WARNING] [real_accelerator.py:181:get_accelerator] Setting accelerator to CPU. If you have GPU or other accelerator, we were unable to detect it.\n",
      "[2025-02-24 19:01:39,331] [INFO] [real_accelerator.py:222:get_accelerator] Setting ds_accelerator to cpu (auto detect)\n",
      "[2025-02-24 19:01:39,366] [WARNING] [real_accelerator.py:181:get_accelerator] Setting accelerator to CPU. If you have GPU or other accelerator, we were unable to detect it.\n",
      "[2025-02-24 19:01:39,379] [INFO] [real_accelerator.py:222:get_accelerator] Setting ds_accelerator to cpu (auto detect)\n",
      "[2025-02-24 19:01:39,985] [INFO] [comm.py:658:init_distributed] cdb=None\n",
      "[2025-02-24 19:01:39,985] [INFO] [comm.py:689:init_distributed] Initializing TorchBackend in DeepSpeed with backend gloo\n",
      "[2025-02-24 19:01:40,037] [INFO] [comm.py:658:init_distributed] cdb=None\n"
     ]
    },
    {
     "name": "stderr",
     "output_type": "stream",
     "text": [
      "[2025-02-24 19:01:27,358] torch.distributed.elastic.multiprocessing.redirects: [WARNING] NOTE: Redirects are currently not supported in Windows or MacOs.\n",
      "[2025-02-24 19:01:31,727] torch.distributed.run: [WARNING] \n",
      "[2025-02-24 19:01:31,727] torch.distributed.run: [WARNING] *****************************************\n",
      "[2025-02-24 19:01:31,727] torch.distributed.run: [WARNING] Setting OMP_NUM_THREADS environment variable for each process to be 1 in default, to avoid your system being overloaded, please further tune the variable for optimal performance in your application as needed. \n",
      "[2025-02-24 19:01:31,727] torch.distributed.run: [WARNING] *****************************************\n",
      "[W socket.cpp:663] [c10d] The client socket has failed to connect to [kubernetes.docker.internal]:29500 (system error: 10049 - The requested address is not valid in its context.).\n",
      "C:\\Users\\miraj\\AppData\\Local\\Continuum\\anaconda3\\envs\\LM-FT\\lib\\site-packages\\transformers\\training_args.py:1594: FutureWarning: `evaluation_strategy` is deprecated and will be removed in version 4.46 of 🤗 Transformers. Use `eval_strategy` instead\n",
      "  warnings.warn(\n",
      "C:\\Users\\miraj\\AppData\\Local\\Continuum\\anaconda3\\envs\\LM-FT\\lib\\site-packages\\transformers\\training_args.py:1594: FutureWarning: `evaluation_strategy` is deprecated and will be removed in version 4.46 of 🤗 Transformers. Use `eval_strategy` instead\n",
      "  warnings.warn(\n",
      "[2025-02-24 19:01:39,917] torch.distributed.elastic.multiprocessing.redirects: [WARNING] NOTE: Redirects are currently not supported in Windows or MacOs.\n",
      "[2025-02-24 19:01:39,966] torch.distributed.elastic.multiprocessing.redirects: [WARNING] NOTE: Redirects are currently not supported in Windows or MacOs.\n",
      "Using C:\\Users\\miraj\\AppData\\Local\\torch_extensions\\torch_extensions\\Cache\\py310_cpu as PyTorch extensions root...\n",
      "Traceback (most recent call last):\n",
      "  File \"c:\\Study\\Myprojects\\LLM_FT\\llm-text2sql-finetuning\\train.py\", line 71, in <module>\n",
      "    model_args, data_args, training_args = parser.parse_yaml_file(yaml_file=os.path.abspath(sys.argv[1]))\n",
      "  File \"C:\\Users\\miraj\\AppData\\Local\\Continuum\\anaconda3\\envs\\LM-FT\\lib\\site-packages\\transformers\\hf_argparser.py\", line 441, in parse_yaml_file\n",
      "    outputs = self.parse_dict(yaml.safe_load(Path(yaml_file).read_text()), allow_extra_keys=allow_extra_keys)\n",
      "  File \"C:\\Users\\miraj\\AppData\\Local\\Continuum\\anaconda3\\envs\\LM-FT\\lib\\site-packages\\transformers\\hf_argparser.py\", line 392, in parse_dict\n",
      "    obj = dtype(**inputs)\n",
      "  File \"<string>\", line 134, in __init__\n",
      "  File \"C:\\Users\\miraj\\AppData\\Local\\Continuum\\anaconda3\\envs\\LM-FT\\lib\\site-packages\\transformers\\training_args.py\", line 1791, in __post_init__\n",
      "    self.device\n",
      "  File \"C:\\Users\\miraj\\AppData\\Local\\Continuum\\anaconda3\\envs\\LM-FT\\lib\\site-packages\\transformers\\training_args.py\", line 2313, in device\n",
      "    return self._setup_devices\n",
      "  File \"C:\\Users\\miraj\\AppData\\Local\\Continuum\\anaconda3\\envs\\LM-FT\\lib\\site-packages\\transformers\\utils\\generic.py\", line 62, in __get__\n",
      "    cached = self.fget(obj)\n",
      "  File \"C:\\Users\\miraj\\AppData\\Local\\Continuum\\anaconda3\\envs\\LM-FT\\lib\\site-packages\\transformers\\training_args.py\", line 2243, in _setup_devices\n",
      "    self.distributed_state = PartialState(**accelerator_state_kwargs)\n",
      "  File \"C:\\Users\\miraj\\AppData\\Local\\Continuum\\anaconda3\\envs\\LM-FT\\lib\\site-packages\\accelerate\\state.py\", line 205, in __init__\n",
      "    dist.init_distributed(dist_backend=self.backend, auto_mpi_discovery=False, **kwargs)\n",
      "  File \"C:\\Users\\miraj\\AppData\\Local\\Continuum\\anaconda3\\envs\\LM-FT\\lib\\site-packages\\deepspeed\\comm\\comm.py\", line 691, in init_distributed\n",
      "    cdb = TorchBackend(dist_backend, timeout, init_method, rank, world_size)\n",
      "  File \"C:\\Users\\miraj\\AppData\\Local\\Continuum\\anaconda3\\envs\\LM-FT\\lib\\site-packages\\deepspeed\\comm\\torch.py\", line 107, in __init__\n",
      "    self.shm_comm_op = build_shm_op()\n",
      "  File \"C:\\Users\\miraj\\AppData\\Local\\Continuum\\anaconda3\\envs\\LM-FT\\lib\\site-packages\\deepspeed\\comm\\torch.py\", line 33, in build_shm_op\n",
      "    shm_cpp_module = builder.load()\n",
      "  File \"C:\\Users\\miraj\\AppData\\Local\\Continuum\\anaconda3\\envs\\LM-FT\\lib\\site-packages\\deepspeed\\ops\\op_builder\\builder.py\", line 540, in load\n",
      "    return self.jit_load(verbose)\n",
      "  File \"C:\\Users\\miraj\\AppData\\Local\\Continuum\\anaconda3\\envs\\LM-FT\\lib\\site-packages\\deepspeed\\ops\\op_builder\\builder.py\", line 587, in jit_load\n",
      "    op_module = load(name=self.name,\n",
      "  File \"C:\\Users\\miraj\\AppData\\Local\\Continuum\\anaconda3\\envs\\LM-FT\\lib\\site-packages\\torch\\utils\\cpp_extension.py\", line 1308, in load\n",
      "    return _jit_compile(\n",
      "  File \"C:\\Users\\miraj\\AppData\\Local\\Continuum\\anaconda3\\envs\\LM-FT\\lib\\site-packages\\torch\\utils\\cpp_extension.py\", line 1669, in _jit_compile\n",
      "    version = JIT_EXTENSION_VERSIONER.bump_version_if_changed(\n",
      "  File \"C:\\Users\\miraj\\AppData\\Local\\Continuum\\anaconda3\\envs\\LM-FT\\lib\\site-packages\\torch\\utils\\_cpp_extension_versioner.py\", line 45, in bump_version_if_changed\n",
      "    hash_value = hash_source_files(hash_value, source_files)\n",
      "  File \"C:\\Users\\miraj\\AppData\\Local\\Continuum\\anaconda3\\envs\\LM-FT\\lib\\site-packages\\torch\\utils\\_cpp_extension_versioner.py\", line 15, in hash_source_files\n",
      "    with open(filename) as file:\n",
      "FileNotFoundError: [Errno 2] No such file or directory: 'C:\\\\Users\\\\miraj\\\\AppData\\\\Local\\\\Continuum\\\\anaconda3\\\\envs\\\\LM-FT\\\\lib\\\\site-packages\\\\deepspeed\\\\ops\\\\csrc\\\\cpu\\\\comm\\\\shm_interface.cpp'\n",
      "Using C:\\Users\\miraj\\AppData\\Local\\torch_extensions\\torch_extensions\\Cache\\py310_cpu as PyTorch extensions root...\n",
      "Traceback (most recent call last):\n",
      "  File \"c:\\Study\\Myprojects\\LLM_FT\\llm-text2sql-finetuning\\train.py\", line 71, in <module>\n",
      "    model_args, data_args, training_args = parser.parse_yaml_file(yaml_file=os.path.abspath(sys.argv[1]))\n",
      "  File \"C:\\Users\\miraj\\AppData\\Local\\Continuum\\anaconda3\\envs\\LM-FT\\lib\\site-packages\\transformers\\hf_argparser.py\", line 441, in parse_yaml_file\n",
      "    outputs = self.parse_dict(yaml.safe_load(Path(yaml_file).read_text()), allow_extra_keys=allow_extra_keys)\n",
      "  File \"C:\\Users\\miraj\\AppData\\Local\\Continuum\\anaconda3\\envs\\LM-FT\\lib\\site-packages\\transformers\\hf_argparser.py\", line 392, in parse_dict\n",
      "    obj = dtype(**inputs)\n",
      "  File \"<string>\", line 134, in __init__\n",
      "  File \"C:\\Users\\miraj\\AppData\\Local\\Continuum\\anaconda3\\envs\\LM-FT\\lib\\site-packages\\transformers\\training_args.py\", line 1791, in __post_init__\n",
      "    self.device\n",
      "  File \"C:\\Users\\miraj\\AppData\\Local\\Continuum\\anaconda3\\envs\\LM-FT\\lib\\site-packages\\transformers\\training_args.py\", line 2313, in device\n",
      "    return self._setup_devices\n",
      "  File \"C:\\Users\\miraj\\AppData\\Local\\Continuum\\anaconda3\\envs\\LM-FT\\lib\\site-packages\\transformers\\utils\\generic.py\", line 62, in __get__\n",
      "    cached = self.fget(obj)\n",
      "  File \"C:\\Users\\miraj\\AppData\\Local\\Continuum\\anaconda3\\envs\\LM-FT\\lib\\site-packages\\transformers\\training_args.py\", line 2243, in _setup_devices\n",
      "    self.distributed_state = PartialState(**accelerator_state_kwargs)\n",
      "  File \"C:\\Users\\miraj\\AppData\\Local\\Continuum\\anaconda3\\envs\\LM-FT\\lib\\site-packages\\accelerate\\state.py\", line 205, in __init__\n",
      "    dist.init_distributed(dist_backend=self.backend, auto_mpi_discovery=False, **kwargs)\n",
      "  File \"C:\\Users\\miraj\\AppData\\Local\\Continuum\\anaconda3\\envs\\LM-FT\\lib\\site-packages\\deepspeed\\comm\\comm.py\", line 691, in init_distributed\n",
      "    cdb = TorchBackend(dist_backend, timeout, init_method, rank, world_size)\n",
      "  File \"C:\\Users\\miraj\\AppData\\Local\\Continuum\\anaconda3\\envs\\LM-FT\\lib\\site-packages\\deepspeed\\comm\\torch.py\", line 107, in __init__\n",
      "    self.shm_comm_op = build_shm_op()\n",
      "  File \"C:\\Users\\miraj\\AppData\\Local\\Continuum\\anaconda3\\envs\\LM-FT\\lib\\site-packages\\deepspeed\\comm\\torch.py\", line 33, in build_shm_op\n",
      "    shm_cpp_module = builder.load()\n",
      "  File \"C:\\Users\\miraj\\AppData\\Local\\Continuum\\anaconda3\\envs\\LM-FT\\lib\\site-packages\\deepspeed\\ops\\op_builder\\builder.py\", line 540, in load\n",
      "    return self.jit_load(verbose)\n",
      "  File \"C:\\Users\\miraj\\AppData\\Local\\Continuum\\anaconda3\\envs\\LM-FT\\lib\\site-packages\\deepspeed\\ops\\op_builder\\builder.py\", line 587, in jit_load\n",
      "    op_module = load(name=self.name,\n",
      "  File \"C:\\Users\\miraj\\AppData\\Local\\Continuum\\anaconda3\\envs\\LM-FT\\lib\\site-packages\\torch\\utils\\cpp_extension.py\", line 1308, in load\n",
      "    return _jit_compile(\n",
      "  File \"C:\\Users\\miraj\\AppData\\Local\\Continuum\\anaconda3\\envs\\LM-FT\\lib\\site-packages\\torch\\utils\\cpp_extension.py\", line 1669, in _jit_compile\n",
      "    version = JIT_EXTENSION_VERSIONER.bump_version_if_changed(\n",
      "  File \"C:\\Users\\miraj\\AppData\\Local\\Continuum\\anaconda3\\envs\\LM-FT\\lib\\site-packages\\torch\\utils\\_cpp_extension_versioner.py\", line 45, in bump_version_if_changed\n",
      "    hash_value = hash_source_files(hash_value, source_files)\n",
      "  File \"C:\\Users\\miraj\\AppData\\Local\\Continuum\\anaconda3\\envs\\LM-FT\\lib\\site-packages\\torch\\utils\\_cpp_extension_versioner.py\", line 15, in hash_source_files\n",
      "    with open(filename) as file:\n",
      "FileNotFoundError: [Errno 2] No such file or directory: 'C:\\\\Users\\\\miraj\\\\AppData\\\\Local\\\\Continuum\\\\anaconda3\\\\envs\\\\LM-FT\\\\lib\\\\site-packages\\\\deepspeed\\\\ops\\\\csrc\\\\cpu\\\\comm\\\\shm_interface.cpp'\n",
      "[2025-02-24 19:01:41,324] torch.distributed.elastic.multiprocessing.api: [WARNING] Sending process 8844 closing signal CTRL_C_EVENT\n",
      "[2025-02-24 19:01:41,383] torch.distributed.elastic.agent.server.api: [WARNING] Received Signals.SIGINT death signal, shutting down workers\n",
      "Traceback (most recent call last):\n",
      "  File \"C:\\Users\\miraj\\AppData\\Local\\Continuum\\anaconda3\\envs\\LM-FT\\lib\\runpy.py\", line 196, in _run_module_as_main\n",
      "    return _run_code(code, main_globals, None,\n",
      "  File \"C:\\Users\\miraj\\AppData\\Local\\Continuum\\anaconda3\\envs\\LM-FT\\lib\\runpy.py\", line 86, in _run_code\n",
      "    exec(code, run_globals)\n",
      "  File \"C:\\Users\\miraj\\AppData\\Local\\Continuum\\anaconda3\\envs\\LM-FT\\Scripts\\accelerate.exe\\__main__.py\", line 7, in <module>\n",
      "  File \"C:\\Users\\miraj\\AppData\\Local\\Continuum\\anaconda3\\envs\\LM-FT\\lib\\site-packages\\accelerate\\commands\\accelerate_cli.py\", line 48, in main\n",
      "    args.func(args)\n",
      "  File \"C:\\Users\\miraj\\AppData\\Local\\Continuum\\anaconda3\\envs\\LM-FT\\lib\\site-packages\\accelerate\\commands\\launch.py\", line 1182, in launch_command\n",
      "    deepspeed_launcher(args)\n",
      "  File \"C:\\Users\\miraj\\AppData\\Local\\Continuum\\anaconda3\\envs\\LM-FT\\lib\\site-packages\\accelerate\\commands\\launch.py\", line 861, in deepspeed_launcher\n",
      "    distrib_run.run(args)\n",
      "  File \"C:\\Users\\miraj\\AppData\\Local\\Continuum\\anaconda3\\envs\\LM-FT\\lib\\site-packages\\torch\\distributed\\run.py\", line 797, in run\n",
      "    elastic_launch(\n",
      "  File \"C:\\Users\\miraj\\AppData\\Local\\Continuum\\anaconda3\\envs\\LM-FT\\lib\\site-packages\\torch\\distributed\\launcher\\api.py\", line 134, in __call__\n",
      "    return launch_agent(self._config, self._entrypoint, list(args))\n",
      "  File \"C:\\Users\\miraj\\AppData\\Local\\Continuum\\anaconda3\\envs\\LM-FT\\lib\\site-packages\\torch\\distributed\\launcher\\api.py\", line 255, in launch_agent\n",
      "    result = agent.run()\n",
      "  File \"C:\\Users\\miraj\\AppData\\Local\\Continuum\\anaconda3\\envs\\LM-FT\\lib\\site-packages\\torch\\distributed\\elastic\\metrics\\api.py\", line 124, in wrapper\n",
      "    result = f(*args, **kwargs)\n",
      "  File \"C:\\Users\\miraj\\AppData\\Local\\Continuum\\anaconda3\\envs\\LM-FT\\lib\\site-packages\\torch\\distributed\\elastic\\agent\\server\\api.py\", line 736, in run\n",
      "    result = self._invoke_run(role)\n",
      "  File \"C:\\Users\\miraj\\AppData\\Local\\Continuum\\anaconda3\\envs\\LM-FT\\lib\\site-packages\\torch\\distributed\\elastic\\agent\\server\\api.py\", line 878, in _invoke_run\n",
      "    run_result = self._monitor_workers(self._worker_group)\n",
      "  File \"C:\\Users\\miraj\\AppData\\Local\\Continuum\\anaconda3\\envs\\LM-FT\\lib\\site-packages\\torch\\distributed\\elastic\\metrics\\api.py\", line 124, in wrapper\n",
      "    result = f(*args, **kwargs)\n",
      "  File \"C:\\Users\\miraj\\AppData\\Local\\Continuum\\anaconda3\\envs\\LM-FT\\lib\\site-packages\\torch\\distributed\\elastic\\agent\\server\\local_elastic_agent.py\", line 307, in _monitor_workers\n",
      "    result = self._pcontext.wait(0)\n",
      "  File \"C:\\Users\\miraj\\AppData\\Local\\Continuum\\anaconda3\\envs\\LM-FT\\lib\\site-packages\\torch\\distributed\\elastic\\multiprocessing\\api.py\", line 288, in wait\n",
      "    return self._poll()\n",
      "  File \"C:\\Users\\miraj\\AppData\\Local\\Continuum\\anaconda3\\envs\\LM-FT\\lib\\site-packages\\torch\\distributed\\elastic\\multiprocessing\\api.py\", line 668, in _poll\n",
      "    self.close()  # terminate all running procs\n",
      "  File \"C:\\Users\\miraj\\AppData\\Local\\Continuum\\anaconda3\\envs\\LM-FT\\lib\\site-packages\\torch\\distributed\\elastic\\multiprocessing\\api.py\", line 331, in close\n",
      "    self._close(death_sig=death_sig, timeout=timeout)\n",
      "  File \"C:\\Users\\miraj\\AppData\\Local\\Continuum\\anaconda3\\envs\\LM-FT\\lib\\site-packages\\torch\\distributed\\elastic\\multiprocessing\\api.py\", line 713, in _close\n",
      "    handler.proc.wait(time_to_wait)\n",
      "  File \"C:\\Users\\miraj\\AppData\\Local\\Continuum\\anaconda3\\envs\\LM-FT\\lib\\subprocess.py\", line 1209, in wait\n",
      "    return self._wait(timeout=timeout)\n",
      "  File \"C:\\Users\\miraj\\AppData\\Local\\Continuum\\anaconda3\\envs\\LM-FT\\lib\\subprocess.py\", line 1506, in _wait\n",
      "    result = _winapi.WaitForSingleObject(self._handle,\n",
      "  File \"C:\\Users\\miraj\\AppData\\Local\\Continuum\\anaconda3\\envs\\LM-FT\\lib\\site-packages\\torch\\distributed\\elastic\\multiprocessing\\api.py\", line 62, in _terminate_process_handler\n",
      "    raise SignalException(f\"Process {os.getpid()} got signal: {sigval}\", sigval=sigval)\n",
      "torch.distributed.elastic.multiprocessing.api.SignalException: Process 14228 got signal: 2\n"
     ]
    }
   ],
   "source": [
    "!accelerate launch --config_file \"ds_z3_qlora_config.yaml\"  train.py run_config.yaml"
   ]
  },
  {
   "cell_type": "code",
   "execution_count": 2,
   "metadata": {},
   "outputs": [
    {
     "name": "stdout",
     "output_type": "stream",
     "text": [
      "Dataset test data not available in the source\n",
      "Spliting train data 90:10 since no test data available\n",
      "{'content': '<|system|>\\nCREATE TABLE table_name_29 (actor_required VARCHAR, actor_in_original_production VARCHAR)</s>\\n<|user|>\\nWho is the required actor when Robert Austin was the actor in the original production?</s>\\n<|assistant|>\\nSELECT actor_required FROM table_name_29 WHERE actor_in_original_production = \"robert austin\"</s>\\n'}\n"
     ]
    },
    {
     "name": "stderr",
     "output_type": "stream",
     "text": [
      "\n",
      "Map:   0%|          | 0/78577 [00:00<?, ? examples/s]\n",
      "Map:   1%|▏         | 1000/78577 [00:00<00:08, 9074.12 examples/s]\n",
      "Map:   4%|▍         | 3000/78577 [00:00<00:06, 11733.52 examples/s]\n",
      "Map:   6%|▋         | 5000/78577 [00:00<00:05, 12595.24 examples/s]\n",
      "Map:   9%|▉         | 7000/78577 [00:00<00:05, 13131.86 examples/s]\n",
      "Map:  11%|█▏        | 9000/78577 [00:00<00:05, 13373.07 examples/s]\n",
      "Map:  14%|█▍        | 11000/78577 [00:00<00:05, 13386.14 examples/s]\n",
      "Map:  17%|█▋        | 13000/78577 [00:00<00:04, 13528.03 examples/s]\n",
      "Map:  19%|█▉        | 15000/78577 [00:01<00:04, 13783.80 examples/s]\n",
      "Map:  22%|██▏       | 17000/78577 [00:01<00:04, 13667.56 examples/s]\n",
      "Map:  24%|██▍       | 19000/78577 [00:01<00:04, 13640.86 examples/s]\n",
      "Map:  27%|██▋       | 21000/78577 [00:01<00:04, 13744.45 examples/s]\n",
      "Map:  29%|██▉       | 23000/78577 [00:01<00:04, 13841.60 examples/s]\n",
      "Map:  32%|███▏      | 25000/78577 [00:01<00:03, 13898.86 examples/s]\n",
      "Map:  34%|███▍      | 27000/78577 [00:02<00:03, 13097.81 examples/s]\n",
      "Map:  37%|███▋      | 29000/78577 [00:02<00:03, 13401.19 examples/s]\n",
      "Map:  39%|███▉      | 31000/78577 [00:02<00:03, 13476.17 examples/s]\n",
      "Map:  42%|████▏     | 33000/78577 [00:02<00:03, 13668.18 examples/s]\n",
      "Map:  45%|████▍     | 35000/78577 [00:02<00:03, 13866.40 examples/s]\n",
      "Map:  47%|████▋     | 37000/78577 [00:02<00:02, 13947.87 examples/s]\n",
      "Map:  50%|████▉     | 39000/78577 [00:02<00:02, 14018.89 examples/s]\n",
      "Map:  52%|█████▏    | 41000/78577 [00:03<00:02, 13999.03 examples/s]\n",
      "Map:  55%|█████▍    | 43000/78577 [00:03<00:02, 14016.52 examples/s]\n",
      "Map:  57%|█████▋    | 45000/78577 [00:03<00:02, 13863.55 examples/s]\n",
      "Map:  60%|█████▉    | 47000/78577 [00:03<00:02, 13862.85 examples/s]\n",
      "Map:  62%|██████▏   | 49000/78577 [00:03<00:02, 13856.32 examples/s]\n",
      "Map:  65%|██████▍   | 51000/78577 [00:03<00:01, 13890.27 examples/s]\n",
      "Map:  67%|██████▋   | 53000/78577 [00:03<00:01, 13936.00 examples/s]\n",
      "Map:  70%|██████▉   | 55000/78577 [00:04<00:01, 13968.07 examples/s]\n",
      "Map:  73%|███████▎  | 57000/78577 [00:04<00:01, 13966.88 examples/s]\n",
      "Map:  75%|███████▌  | 59000/78577 [00:04<00:01, 13943.35 examples/s]\n",
      "Map:  78%|███████▊  | 61000/78577 [00:04<00:01, 12903.35 examples/s]\n",
      "Map:  80%|████████  | 63000/78577 [00:04<00:01, 13087.54 examples/s]\n",
      "Map:  83%|████████▎ | 65000/78577 [00:04<00:01, 13381.14 examples/s]\n",
      "Map:  85%|████████▌ | 67000/78577 [00:04<00:00, 13547.98 examples/s]\n",
      "Map:  88%|████████▊ | 69000/78577 [00:05<00:00, 13728.00 examples/s]\n",
      "Map:  90%|█████████ | 71000/78577 [00:05<00:00, 13828.83 examples/s]\n",
      "Map:  93%|█████████▎| 73000/78577 [00:05<00:00, 13411.73 examples/s]\n",
      "Map:  95%|█████████▌| 75000/78577 [00:05<00:00, 13232.36 examples/s]\n",
      "Map:  98%|█████████▊| 77000/78577 [00:05<00:00, 13125.01 examples/s]\n",
      "Map: 100%|██████████| 78577/78577 [00:05<00:00, 13247.63 examples/s]\n",
      "Map: 100%|██████████| 78577/78577 [00:05<00:00, 13530.00 examples/s]\n"
     ]
    }
   ],
   "source": [
    "!python modules/data_utils.py"
   ]
  },
  {
   "cell_type": "code",
   "execution_count": 3,
   "metadata": {},
   "outputs": [
    {
     "name": "stdout",
     "output_type": "stream",
     "text": [
      "<|system|>\n",
      "CREATE TABLE table_name_29 (actor_required VARCHAR, actor_in_original_production VARCHAR)</s>\n",
      "<|user|>\n",
      "Who is the required actor when Robert Austin was the actor in the original production?</s>\n",
      "<|assistant|>\n",
      "SELECT actor_required FROM table_name_29 WHERE actor_in_original_production = \"robert austin\"</s>\n",
      "\n"
     ]
    }
   ],
   "source": [
    "print('<|system|>\\nCREATE TABLE table_name_29 (actor_required VARCHAR, actor_in_original_production VARCHAR)</s>\\n<|user|>\\nWho is the required actor when Robert Austin was the actor in the original production?</s>\\n<|assistant|>\\nSELECT actor_required FROM table_name_29 WHERE actor_in_original_production = \"robert austin\"</s>\\n')"
   ]
  }
 ],
 "metadata": {
  "kernelspec": {
   "display_name": "LM-FT",
   "language": "python",
   "name": "python3"
  },
  "language_info": {
   "codemirror_mode": {
    "name": "ipython",
    "version": 3
   },
   "file_extension": ".py",
   "mimetype": "text/x-python",
   "name": "python",
   "nbconvert_exporter": "python",
   "pygments_lexer": "ipython3",
   "version": "3.10.16"
  }
 },
 "nbformat": 4,
 "nbformat_minor": 2
}
